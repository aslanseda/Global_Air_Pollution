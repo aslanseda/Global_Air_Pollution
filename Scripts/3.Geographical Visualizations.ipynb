{
 "cells": [
  {
   "cell_type": "markdown",
   "id": "48cb3c10",
   "metadata": {},
   "source": [
    "## 1. Importing libraries"
   ]
  },
  {
   "cell_type": "code",
   "execution_count": 1,
   "id": "0c1f8530",
   "metadata": {},
   "outputs": [],
   "source": [
    "import pandas as pd\n",
    "import numpy as np\n",
    "import seaborn as sns\n",
    "import matplotlib\n",
    "import os\n",
    "import folium\n",
    "import json\n",
    "import matplotlib.pyplot as plt"
   ]
  },
  {
   "cell_type": "code",
   "execution_count": 2,
   "id": "0b854d14",
   "metadata": {},
   "outputs": [],
   "source": [
    "%matplotlib inline"
   ]
  },
  {
   "cell_type": "code",
   "execution_count": 3,
   "id": "018003bc",
   "metadata": {},
   "outputs": [],
   "source": [
    "# Import \".json\" file\n",
    "country_geo = r'C:\\Users\\sdaon\\Documents\\Achievement 6/world-countries.json'"
   ]
  },
  {
   "cell_type": "code",
   "execution_count": 10,
   "id": "7d2b016c",
   "metadata": {},
   "outputs": [
    {
     "name": "stdout",
     "output_type": "stream",
     "text": [
      "{'type': 'Feature', 'properties': {'name': 'Afghanistan'}, 'geometry': {'type': 'Polygon', 'coordinates': [[[61.210817, 35.650072], [62.230651, 35.270664], [62.984662, 35.404041], [63.193538, 35.857166], [63.982896, 36.007957], [64.546479, 36.312073], [64.746105, 37.111818], [65.588948, 37.305217], [65.745631, 37.661164], [66.217385, 37.39379], [66.518607, 37.362784], [67.075782, 37.356144], [67.83, 37.144994], [68.135562, 37.023115], [68.859446, 37.344336], [69.196273, 37.151144], [69.518785, 37.608997], [70.116578, 37.588223], [70.270574, 37.735165], [70.376304, 38.138396], [70.806821, 38.486282], [71.348131, 38.258905], [71.239404, 37.953265], [71.541918, 37.905774], [71.448693, 37.065645], [71.844638, 36.738171], [72.193041, 36.948288], [72.63689, 37.047558], [73.260056, 37.495257], [73.948696, 37.421566], [74.980002, 37.41999], [75.158028, 37.133031], [74.575893, 37.020841], [74.067552, 36.836176], [72.920025, 36.720007], [71.846292, 36.509942], [71.262348, 36.074388], [71.498768, 35.650563], [71.613076, 35.153203], [71.115019, 34.733126], [71.156773, 34.348911], [70.881803, 33.988856], [69.930543, 34.02012], [70.323594, 33.358533], [69.687147, 33.105499], [69.262522, 32.501944], [69.317764, 31.901412], [68.926677, 31.620189], [68.556932, 31.71331], [67.792689, 31.58293], [67.683394, 31.303154], [66.938891, 31.304911], [66.381458, 30.738899], [66.346473, 29.887943], [65.046862, 29.472181], [64.350419, 29.560031], [64.148002, 29.340819], [63.550261, 29.468331], [62.549857, 29.318572], [60.874248, 29.829239], [61.781222, 30.73585], [61.699314, 31.379506], [60.941945, 31.548075], [60.863655, 32.18292], [60.536078, 32.981269], [60.9637, 33.528832], [60.52843, 33.676446], [60.803193, 34.404102], [61.210817, 35.650072]]]}, 'id': 'AFG'}\n"
     ]
    }
   ],
   "source": [
    "# That's just in case you want to look at the JSON file contents here too:\n",
    "\n",
    "f = open(country_geo)\n",
    "\n",
    "# returns JSON object asa dictionary\n",
    "data = json.load(f)\n",
    "\n",
    "# Print and check the first record of the json list for \n",
    "print(data['features'][0])"
   ]
  },
  {
   "cell_type": "code",
   "execution_count": null,
   "id": "8e3a0157",
   "metadata": {},
   "outputs": [],
   "source": [
    "path = r'C:\\Users\\sdaon\\Documents\\Global Air Pollution Dataset'"
   ]
  },
  {
   "cell_type": "code",
   "execution_count": null,
   "id": "f659a85d",
   "metadata": {},
   "outputs": [],
   "source": [
    "df = pd.read_csv(os.path.join(path, 'Data', 'Prepared Data', 'global air pollution dataset_cleaned.csv'), index_col = False)"
   ]
  },
  {
   "cell_type": "code",
   "execution_count": null,
   "id": "ed2de41c",
   "metadata": {},
   "outputs": [],
   "source": [
    "df.head()"
   ]
  },
  {
   "cell_type": "code",
   "execution_count": null,
   "id": "3196987c",
   "metadata": {},
   "outputs": [],
   "source": [
    "df.shape"
   ]
  },
  {
   "cell_type": "markdown",
   "id": "1de10ca4",
   "metadata": {},
   "source": [
    "## Data Wrangling"
   ]
  },
  {
   "cell_type": "code",
   "execution_count": null,
   "id": "eca68f7e",
   "metadata": {},
   "outputs": [],
   "source": [
    "df.columns"
   ]
  },
  {
   "cell_type": "code",
   "execution_count": null,
   "id": "99493c0b",
   "metadata": {},
   "outputs": [],
   "source": [
    "#drop unname columns for df\n",
    "df = df.drop(columns = ['Unnamed: 0'])"
   ]
  },
  {
   "cell_type": "code",
   "execution_count": null,
   "id": "c2860393",
   "metadata": {},
   "outputs": [],
   "source": [
    "df.columns"
   ]
  },
  {
   "cell_type": "code",
   "execution_count": null,
   "id": "8c26f75c",
   "metadata": {},
   "outputs": [],
   "source": [
    "df.isnull().sum()"
   ]
  },
  {
   "cell_type": "code",
   "execution_count": null,
   "id": "c80a1500",
   "metadata": {},
   "outputs": [],
   "source": [
    "df_dups = df[df.duplicated()]"
   ]
  },
  {
   "cell_type": "code",
   "execution_count": null,
   "id": "75c628b1",
   "metadata": {},
   "outputs": [],
   "source": [
    "df_dups.shape"
   ]
  },
  {
   "cell_type": "markdown",
   "id": "4d20e846",
   "metadata": {},
   "source": [
    "### check"
   ]
  },
  {
   "cell_type": "code",
   "execution_count": null,
   "id": "179e4196",
   "metadata": {
    "scrolled": true
   },
   "outputs": [],
   "source": [
    "sns.histplot(df['AQI Value'], bins=25, kde = True)"
   ]
  },
  {
   "cell_type": "markdown",
   "id": "d375d187",
   "metadata": {},
   "source": [
    "#### There is no extrame values as the AQI is not more than 500."
   ]
  },
  {
   "cell_type": "code",
   "execution_count": null,
   "id": "14032864",
   "metadata": {},
   "outputs": [],
   "source": [
    "sns.histplot(df['CO AQI Value'], bins=15, kde = True)"
   ]
  },
  {
   "cell_type": "code",
   "execution_count": null,
   "id": "30633f78",
   "metadata": {},
   "outputs": [],
   "source": [
    "df[df['CO AQI Value'] > 13]"
   ]
  },
  {
   "cell_type": "markdown",
   "id": "6629de6e",
   "metadata": {},
   "source": [
    "#### There are extrame values but they don't have impact on my analysis. As I want to investiate them more, I decide to keep them."
   ]
  },
  {
   "cell_type": "code",
   "execution_count": null,
   "id": "f36e7a5f",
   "metadata": {},
   "outputs": [],
   "source": [
    "sns.histplot(df['Ozone AQI Value'], bins=25, kde = True)"
   ]
  },
  {
   "cell_type": "code",
   "execution_count": null,
   "id": "a7e1c2c5",
   "metadata": {},
   "outputs": [],
   "source": [
    "sns.histplot(df['NO2 AQI Value'], bins=25, kde = True)"
   ]
  },
  {
   "cell_type": "code",
   "execution_count": null,
   "id": "7c3eb1d8",
   "metadata": {
    "scrolled": true
   },
   "outputs": [],
   "source": [
    "sns.histplot(df['PM2.5 AQI Value'], bins=25, kde = True)"
   ]
  },
  {
   "cell_type": "markdown",
   "id": "4d6f4467",
   "metadata": {},
   "source": [
    "#### There is no extrame values as the PM2.5 AQI Value is not more than 500."
   ]
  },
  {
   "cell_type": "markdown",
   "id": "f8902ee6",
   "metadata": {},
   "source": [
    "### Plotting a Choropleth"
   ]
  },
  {
   "cell_type": "code",
   "execution_count": null,
   "id": "a96cd68a",
   "metadata": {},
   "outputs": [],
   "source": [
    "# Create a data frame with just the states and the values for rating we want plotted\n",
    "\n",
    "df_new = df[['Country','AQI Value']]\n",
    "df_new.head()"
   ]
  },
  {
   "cell_type": "code",
   "execution_count": null,
   "id": "ef45d6a2",
   "metadata": {},
   "outputs": [],
   "source": [
    "# Setup a folium map at a high-level zoom\n",
    "map = folium.Map(location = [100, 0], zoom_start = 1.5)\n",
    "\n",
    "# Choropleth maps bind Pandas Data Frames and json geometries.This allows us to quickly visualize data combinations\n",
    "folium.Choropleth(\n",
    "    geo_data = country_geo, \n",
    "    data = df_new,\n",
    "    columns = ['Country','AQI Value'],\n",
    "    key_on = 'feature.properties.name', # this part is very important - check your json file to see where the KEY is located\n",
    "    fill_color = 'YlOrBr', \n",
    "    fill_opacity=0.6, \n",
    "    line_opacity=0.1,\n",
    "    legend_name = \"Air Value\").add_to(map)\n",
    "folium.LayerControl().add_to(map)\n",
    "\n",
    "map"
   ]
  },
  {
   "cell_type": "code",
   "execution_count": null,
   "id": "ef652cbb",
   "metadata": {},
   "outputs": [],
   "source": [
    "map.save('plot_data.html')"
   ]
  },
  {
   "cell_type": "code",
   "execution_count": null,
   "id": "cc172181",
   "metadata": {},
   "outputs": [],
   "source": []
  }
 ],
 "metadata": {
  "kernelspec": {
   "display_name": "Python 3 (ipykernel)",
   "language": "python",
   "name": "python3"
  },
  "language_info": {
   "codemirror_mode": {
    "name": "ipython",
    "version": 3
   },
   "file_extension": ".py",
   "mimetype": "text/x-python",
   "name": "python",
   "nbconvert_exporter": "python",
   "pygments_lexer": "ipython3",
   "version": "3.10.9"
  }
 },
 "nbformat": 4,
 "nbformat_minor": 5
}
